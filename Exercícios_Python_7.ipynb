{
  "nbformat": 4,
  "nbformat_minor": 0,
  "metadata": {
    "colab": {
      "provenance": [],
      "authorship_tag": "ABX9TyPnByAeA7I0DfPK7k7fzqdx",
      "include_colab_link": true
    },
    "kernelspec": {
      "name": "python3",
      "display_name": "Python 3"
    },
    "language_info": {
      "name": "python"
    }
  },
  "cells": [
    {
      "cell_type": "markdown",
      "metadata": {
        "id": "view-in-github",
        "colab_type": "text"
      },
      "source": [
        "<a href=\"https://colab.research.google.com/github/GustavoCorreia10/Aulas-Python/blob/main/Exerc%C3%ADcios_Python_7.ipynb\" target=\"_parent\"><img src=\"https://colab.research.google.com/assets/colab-badge.svg\" alt=\"Open In Colab\"/></a>"
      ]
    },
    {
      "cell_type": "code",
      "execution_count": 31,
      "metadata": {
        "colab": {
          "base_uri": "https://localhost:8080/"
        },
        "id": "OuO8BpEonPcY",
        "outputId": "d980e674-71d5-4f49-e986-df10e9289962"
      },
      "outputs": [
        {
          "output_type": "stream",
          "name": "stdout",
          "text": [
            "11\n"
          ]
        }
      ],
      "source": [
        "# **1 - Crie um número aleatório de 10, 5**\n",
        "\n",
        "# import random\n",
        "\n",
        "# n = random.randint(5,10)  #random.randint é utilizado para números flutuantes aleatórios\n",
        "# print(n)\n",
        "\n",
        "# **2 - Crie 3 números aleatórios**\n",
        "\n",
        "# n1 = random.randint(1,10)\n",
        "# n2 = random.randint(1,10)\n",
        "# n3 = random.randint(1,10)\n",
        "\n",
        "# print(n1, n2, n3)\n",
        "\n",
        "\n",
        "# **3 - Crie um número aleatório entre 10 a 30 utilize o range()**\n",
        "\n",
        "# n= random.randrange(10,30) #random.randrange é utilizado para números dentro da lista proposta\n",
        "# print(n)\n",
        "\n"
      ]
    }
  ]
}